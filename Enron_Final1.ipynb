{
 "cells": [
  {
   "cell_type": "markdown",
   "metadata": {},
   "source": [
    "# Identifying Persons of Interest in the Enron Fraud Scandal"
   ]
  },
  {
   "cell_type": "markdown",
   "metadata": {},
   "source": [
    "## By:  Sunda Gerard"
   ]
  },
  {
   "cell_type": "markdown",
   "metadata": {},
   "source": [
    "## Overview of Project\n",
    "\n",
    "In the late 1990's and 2000, Enron was one of the largest companies in the United States.  Corporate fraud overstating its profits caused its collapse in late 2001 into bankruptcy.  Employees had only a half hour to clean out their belongings and vacate the building at the end.  The Houston Astros new stadium had the naming rights purchased by Enron in April 2000 for 30 years and a cost of 100 million dollars.  Just under two years later, the company had filed bankruptcy and the naming rights for the stadium were purchased back by the Astros for 2.1 million dollars (who subsequently flipped the rights to Coca-Cola's Minute Maid brand for also 100 million dollars and 30 years).  The tale of Enron is a cautionary tale of corporate greed and mischevious activity by many people including executives, traders, and accountants.  Due to the massive scale of this fraud and the subsequent bankruptcy, emails from the company were seized and later made available to the public.  This dataset is an examination of that email data, as well as financial information pertaining to the individuals named in the dataset.  One important thing of note is that in the late 1990's and 2000-2001, email was still a new evolving technology that was not necessarily prefered over written memos or telephone conversations for business communications.  Even after investigating the persons of interest in this dataset, it may not tell us the entire picture of the fraud that Enron pulled off for so long.  Many documents were shredded by Enron's accountants at the time, Arthur Andersen, before federal hearings into the fraud.  Arthur Andersen was later found guilty of criminal charges during the auditing of Enron and also effectively went out of business as an accounting firm in 2002."
   ]
  },
  {
   "cell_type": "markdown",
   "metadata": {},
   "source": [
    "## Methods of the Project\n",
    "\n",
    "This project is designed to build an identifier of person(s) of interest (POI) in the Enron dataset based on financial and email records for employees of the company.  Initially, POIs were those indicted on charges, those who reached a settlement, or agreed to testify so that they would be able to claim immunity from charges and jail time.  The order of the project lineup is as follows:\n",
    "\n",
    "1.  Exploring the dataset\n",
    "2.  Feature Selection\n",
    "3.  Selection of Algorithms\n",
    "4.  Validation and Evaluation"
   ]
  },
  {
   "cell_type": "markdown",
   "metadata": {},
   "source": [
    "# Understanding the Dataset and Question"
   ]
  },
  {
   "cell_type": "markdown",
   "metadata": {},
   "source": [
    "First we need to import the pkl data to work with the dataset"
   ]
  },
  {
   "cell_type": "code",
   "execution_count": 102,
   "metadata": {},
   "outputs": [],
   "source": [
    "import sys\n",
    "import pickle\n",
    "sys.path.append(\"../tools/\")\n",
    "import numpy as np\n",
    "import pandas as pd\n",
    "import warnings\n",
    "warnings.filterwarnings('ignore')\n",
    "enron_dataset = pickle.load(open(\"final_project_dataset.pkl\", \"r\"))"
   ]
  },
  {
   "cell_type": "markdown",
   "metadata": {},
   "source": [
    "Regarding the dataset, lets see how many employees are in the dataset."
   ]
  },
  {
   "cell_type": "code",
   "execution_count": 103,
   "metadata": {},
   "outputs": [
    {
     "name": "stdout",
     "output_type": "stream",
     "text": [
      "There are 146 employees in the Enron dataset\n"
     ]
    }
   ],
   "source": [
    "# To see number of employees in the Enron dataset\n",
    "print \"There are\", len(enron_dataset), \"employees in the Enron dataset\""
   ]
  },
  {
   "cell_type": "markdown",
   "metadata": {},
   "source": [
    "Now that we know there are 146 employees that could be involved, lets see their names."
   ]
  },
  {
   "cell_type": "code",
   "execution_count": 104,
   "metadata": {},
   "outputs": [
    {
     "name": "stdout",
     "output_type": "stream",
     "text": [
      "['METTS MARK', 'BAXTER JOHN C', 'ELLIOTT STEVEN', 'CORDES WILLIAM R', 'HANNON KEVIN P', 'MORDAUNT KRISTINA M', 'MEYER ROCKFORD G', 'MCMAHON JEFFREY', 'HORTON STANLEY C', 'PIPER GREGORY F', 'HUMPHREY GENE E', 'UMANOFF ADAM S', 'BLACHMAN JEREMY M', 'SUNDE MARTIN', 'GIBBS DANA R', 'LOWRY CHARLES P', 'COLWELL WESLEY', 'MULLER MARK S', 'JACKSON CHARLENE R', 'WESTFAHL RICHARD K', 'WALTERS GARETH W', 'WALLS JR ROBERT H', 'KITCHEN LOUISE', 'CHAN RONNIE', 'BELFER ROBERT', 'SHANKMAN JEFFREY A', 'WODRASKA JOHN', 'BERGSIEKER RICHARD P', 'URQUHART JOHN A', 'BIBI PHILIPPE A', 'RIEKER PAULA H', 'WHALEY DAVID A', 'BECK SALLY W', 'HAUG DAVID L', 'ECHOLS JOHN B', 'MENDELSOHN JOHN', 'HICKERSON GARY J', 'CLINE KENNETH W', 'LEWIS RICHARD', 'HAYES ROBERT E', 'MCCARTY DANNY J', 'KOPPER MICHAEL J', 'LEFF DANIEL P', 'LAVORATO JOHN J', 'BERBERIAN DAVID', 'DETMERING TIMOTHY J', 'WAKEHAM JOHN', 'POWERS WILLIAM', 'GOLD JOSEPH', 'BANNANTINE JAMES M', 'DUNCAN JOHN H', 'SHAPIRO RICHARD S', 'SHERRIFF JOHN R', 'SHELBY REX', 'LEMAISTRE CHARLES', 'DEFFNER JOSEPH M', 'KISHKILL JOSEPH G', 'WHALLEY LAWRENCE G', 'MCCONNELL MICHAEL S', 'PIRO JIM', 'DELAINEY DAVID W', 'SULLIVAN-SHAKLOVITZ COLLEEN', 'WROBEL BRUCE', 'LINDHOLM TOD A', 'MEYER JEROME J', 'LAY KENNETH L', 'BUTTS ROBERT H', 'OLSON CINDY K', 'MCDONALD REBECCA', 'CUMBERLAND MICHAEL S', 'GAHN ROBERT S', 'MCCLELLAN GEORGE', 'HERMANN ROBERT J', 'SCRIMSHAW MATTHEW', 'GATHMANN WILLIAM D', 'HAEDICKE MARK E', 'BOWEN JR RAYMOND M', 'GILLIS JOHN', 'FITZGERALD JAY L', 'MORAN MICHAEL P', 'REDMOND BRIAN L', 'BAZELIDES PHILIP J', 'BELDEN TIMOTHY N', 'DURAN WILLIAM D', 'THORN TERENCE H', 'FASTOW ANDREW S', 'FOY JOE', 'CALGER CHRISTOPHER F', 'RICE KENNETH D', 'KAMINSKI WINCENTY J', 'LOCKHART EUGENE E', 'COX DAVID', 'OVERDYKE JR JERE C', 'PEREIRA PAULO V. FERRAZ', 'STABLER FRANK', 'SKILLING JEFFREY K', 'BLAKE JR. NORMAN P', 'SHERRICK JEFFREY B', 'PRENTICE JAMES', 'GRAY RODNEY', 'PICKERING MARK R', 'THE TRAVEL AGENCY IN THE PARK', 'NOLES JAMES L', 'KEAN STEVEN J', 'TOTAL', 'FOWLER PEGGY', 'WASAFF GEORGE', 'WHITE JR THOMAS E', 'CHRISTODOULOU DIOMEDES', 'ALLEN PHILLIP K', 'SHARP VICTORIA T', 'JAEDICKE ROBERT', 'WINOKUR JR. HERBERT S', 'BROWN MICHAEL', 'BADUM JAMES P', 'HUGHES JAMES A', 'REYNOLDS LAWRENCE', 'DIMICHELE RICHARD G', 'BHATNAGAR SANJAY', 'CARTER REBECCA C', 'BUCHANAN HAROLD G', 'YEAP SOON', 'MURRAY JULIA H', 'GARLAND C KEVIN', 'DODSON KEITH', 'YEAGER F SCOTT', 'HIRKO JOSEPH', 'DIETRICH JANET R', 'DERRICK JR. JAMES V', 'FREVERT MARK A', 'PAI LOU L', 'BAY FRANKLIN R', 'HAYSLETT RODERICK J', 'FUGH JOHN L', 'FALLON JAMES B', 'KOENIG MARK E', 'SAVAGE FRANK', 'IZZO LAWRENCE L', 'TILNEY ELIZABETH A', 'MARTIN AMANDA K', 'BUY RICHARD B', 'GRAMM WENDY L', 'CAUSEY RICHARD A', 'TAYLOR MITCHELL S', 'DONAHUE JR JEFFREY M', 'GLISAN JR BEN F']\n"
     ]
    }
   ],
   "source": [
    "# To see names of the employees\n",
    "print enron_dataset.keys()"
   ]
  },
  {
   "cell_type": "markdown",
   "metadata": {},
   "source": [
    "Everything looks good here, except that \"The Travel Agency in the Park\" is not a real person's name, nor is \"Total.  These must be an outliers, which we will remove."
   ]
  },
  {
   "cell_type": "code",
   "execution_count": 105,
   "metadata": {
    "scrolled": true
   },
   "outputs": [
    {
     "data": {
      "text/plain": [
       "{'bonus': 97343619,\n",
       " 'deferral_payments': 32083396,\n",
       " 'deferred_income': -27992891,\n",
       " 'director_fees': 1398517,\n",
       " 'email_address': 'NaN',\n",
       " 'exercised_stock_options': 311764000,\n",
       " 'expenses': 5235198,\n",
       " 'from_messages': 'NaN',\n",
       " 'from_poi_to_this_person': 'NaN',\n",
       " 'from_this_person_to_poi': 'NaN',\n",
       " 'loan_advances': 83925000,\n",
       " 'long_term_incentive': 48521928,\n",
       " 'other': 42667589,\n",
       " 'poi': False,\n",
       " 'restricted_stock': 130322299,\n",
       " 'restricted_stock_deferred': -7576788,\n",
       " 'salary': 26704229,\n",
       " 'shared_receipt_with_poi': 'NaN',\n",
       " 'to_messages': 'NaN',\n",
       " 'total_payments': 309886585,\n",
       " 'total_stock_value': 434509511}"
      ]
     },
     "execution_count": 105,
     "metadata": {},
     "output_type": "execute_result"
    }
   ],
   "source": [
    "enron_dataset.pop('THE TRAVEL AGENCY IN THE PARK')\n",
    "enron_dataset.pop('TOTAL')"
   ]
  },
  {
   "cell_type": "markdown",
   "metadata": {},
   "source": [
    "We can also see that there are 21 features or categories in the dataset by removing the non-person from our dataset.  These include features such as poi, bonus, salary, total payments, and others.  We will investigate shortly some of those features.  First, we want to see how many identified persons of interest there are in the dataset."
   ]
  },
  {
   "cell_type": "code",
   "execution_count": 106,
   "metadata": {},
   "outputs": [
    {
     "name": "stdout",
     "output_type": "stream",
     "text": [
      "['HANNON KEVIN P', 'COLWELL WESLEY', 'RIEKER PAULA H', 'KOPPER MICHAEL J', 'SHELBY REX', 'DELAINEY DAVID W', 'LAY KENNETH L', 'BOWEN JR RAYMOND M', 'BELDEN TIMOTHY N', 'FASTOW ANDREW S', 'CALGER CHRISTOPHER F', 'RICE KENNETH D', 'SKILLING JEFFREY K', 'YEAGER F SCOTT', 'HIRKO JOSEPH', 'KOENIG MARK E', 'CAUSEY RICHARD A', 'GLISAN JR BEN F']\n",
      "18\n"
     ]
    }
   ],
   "source": [
    "#To find initial POIs\n",
    "count_poi=0\n",
    "poi_name=[]\n",
    "for entry in enron_dataset:\n",
    "    if enron_dataset[entry]['poi']==1:\n",
    "        count_poi+=1\n",
    "        poi_name.append(entry)\n",
    "print poi_name\n",
    "print str(count_poi)"
   ]
  },
  {
   "cell_type": "markdown",
   "metadata": {},
   "source": [
    "We see that there are 18 POIs in the dataset that were intially identified.  These are most likely executives at Enron.  I do know that Kenneth Lay, Jeffrey Skilling, and Andrew Fastow were executives at the company.  The other individuals I do not know unless I investigate further.  For the sake of true identification, I will forego that step."
   ]
  },
  {
   "cell_type": "code",
   "execution_count": 107,
   "metadata": {},
   "outputs": [
    {
     "name": "stdout",
     "output_type": "stream",
     "text": [
      "{'METTS MARK': 14, 'BAXTER JOHN C': 12, 'ELLIOTT STEVEN': 11, 'CORDES WILLIAM R': 10, 'HANNON KEVIN P': 17, 'MORDAUNT KRISTINA M': 9, 'MEYER ROCKFORD G': 12, 'MCMAHON JEFFREY': 16, 'HAEDICKE MARK E': 19, 'PIPER GREGORY F': 18, 'HUMPHREY GENE E': 13, 'NOLES JAMES L': 6, 'BLACHMAN JEREMY M': 16, 'SUNDE MARTIN': 14, 'GIBBS DANA R': 12, 'LOWRY CHARLES P': 5, 'COLWELL WESLEY': 16, 'MULLER MARK S': 17, 'JACKSON CHARLENE R': 15, 'WESTFAHL RICHARD K': 10, 'WALTERS GARETH W': 6, 'WALLS JR ROBERT H': 16, 'KITCHEN LOUISE': 15, 'CHAN RONNIE': 5, 'BELFER ROBERT': 7, 'SHANKMAN JEFFREY A': 16, 'WODRASKA JOHN': 4, 'BERGSIEKER RICHARD P': 16, 'URQUHART JOHN A': 5, 'BIBI PHILIPPE A': 16, 'RIEKER PAULA H': 17, 'WHALEY DAVID A': 3, 'BECK SALLY W': 14, 'HAUG DAVID L': 11, 'ECHOLS JOHN B': 11, 'MENDELSOHN JOHN': 5, 'HICKERSON GARY J': 15, 'CLINE KENNETH W': 4, 'LEWIS RICHARD': 9, 'HAYES ROBERT E': 11, 'KOPPER MICHAEL J': 10, 'LEFF DANIEL P': 14, 'LAVORATO JOHN J': 16, 'BERBERIAN DAVID': 8, 'DETMERING TIMOTHY J': 14, 'WAKEHAM JOHN': 4, 'POWERS WILLIAM': 9, 'GOLD JOSEPH': 10, 'BANNANTINE JAMES M': 16, 'DUNCAN JOHN H': 6, 'SHAPIRO RICHARD S': 15, 'SHERRIFF JOHN R': 15, 'SHELBY REX': 16, 'LEMAISTRE CHARLES': 6, 'DEFFNER JOSEPH M': 16, 'KISHKILL JOSEPH G': 9, 'WHALLEY LAWRENCE G': 16, 'PIRO JIM': 9, 'MCCONNELL MICHAEL S': 16, 'DELAINEY DAVID W': 16, 'SULLIVAN-SHAKLOVITZ COLLEEN': 9, 'WROBEL BRUCE': 3, 'LINDHOLM TOD A': 12, 'MEYER JEROME J': 5, 'LAY KENNETH L': 19, 'BUTTS ROBERT H': 11, 'OLSON CINDY K': 17, 'MCDONALD REBECCA': 10, 'CUMBERLAND MICHAEL S': 9, 'GAHN ROBERT S': 11, 'BADUM JAMES P': 6, 'HERMANN ROBERT J': 12, 'FALLON JAMES B': 16, 'GATHMANN WILLIAM D': 5, 'HORTON STANLEY C': 12, 'BOWEN JR RAYMOND M': 16, 'GILLIS JOHN': 4, 'FITZGERALD JAY L': 16, 'MORAN MICHAEL P': 10, 'REDMOND BRIAN L': 13, 'BAZELIDES PHILIP J': 8, 'BELDEN TIMOTHY N': 17, 'DIMICHELE RICHARD G': 11, 'DURAN WILLIAM D': 16, 'THORN TERENCE H': 16, 'FASTOW ANDREW S': 11, 'FOY JOE': 11, 'CALGER CHRISTOPHER F': 16, 'RICE KENNETH D': 17, 'KAMINSKI WINCENTY J': 16, 'LOCKHART EUGENE E': 1, 'COX DAVID': 16, 'OVERDYKE JR JERE C': 10, 'PEREIRA PAULO V. FERRAZ': 5, 'STABLER FRANK': 9, 'SKILLING JEFFREY K': 16, 'BLAKE JR. NORMAN P': 5, 'SHERRICK JEFFREY B': 10, 'PRENTICE JAMES': 7, 'GRAY RODNEY': 6, 'UMANOFF ADAM S': 11, 'KEAN STEVEN J': 16, 'FOWLER PEGGY': 10, 'WASAFF GEORGE': 17, 'WHITE JR THOMAS E': 10, 'CHRISTODOULOU DIOMEDES': 5, 'ALLEN PHILLIP K': 19, 'SHARP VICTORIA T': 17, 'JAEDICKE ROBERT': 8, 'WINOKUR JR. HERBERT S': 5, 'BROWN MICHAEL': 9, 'MCCLELLAN GEORGE': 16, 'HUGHES JAMES A': 10, 'REYNOLDS LAWRENCE': 13, 'PICKERING MARK R': 14, 'BHATNAGAR SANJAY': 13, 'CARTER REBECCA C': 15, 'BUCHANAN HAROLD G': 16, 'YEAP SOON': 5, 'MURRAY JULIA H': 16, 'GARLAND C KEVIN': 16, 'DODSON KEITH': 12, 'YEAGER F SCOTT': 9, 'HIRKO JOSEPH': 8, 'DIETRICH JANET R': 16, 'DERRICK JR. JAMES V': 18, 'FREVERT MARK A': 19, 'PAI LOU L': 10, 'HAYSLETT RODERICK J': 9, 'BAY FRANKLIN R': 12, 'MCCARTY DANNY J': 10, 'FUGH JOHN L': 5, 'SCRIMSHAW MATTHEW': 4, 'KOENIG MARK E': 16, 'SAVAGE FRANK': 4, 'IZZO LAWRENCE L': 15, 'TILNEY ELIZABETH A': 16, 'MARTIN AMANDA K': 15, 'BUY RICHARD B': 17, 'GRAMM WENDY L': 3, 'CAUSEY RICHARD A': 16, 'TAYLOR MITCHELL S': 14, 'DONAHUE JR JEFFREY M': 16, 'GLISAN JR BEN F': 16}\n"
     ]
    }
   ],
   "source": [
    "#To find employees with NaN counts\n",
    "nan_count = {}\n",
    "for name in enron_dataset:\n",
    "    for feature in enron_dataset[name]:\n",
    "        if enron_dataset[name][feature] != 'NaN':\n",
    "            if name not in nan_count:\n",
    "                nan_count[name] = 0\n",
    "            nan_count[name] += 1\n",
    "\n",
    "print nan_count"
   ]
  },
  {
   "cell_type": "code",
   "execution_count": 108,
   "metadata": {},
   "outputs": [
    {
     "name": "stdout",
     "output_type": "stream",
     "text": [
      "LOCKHART EUGENE E 1\n"
     ]
    }
   ],
   "source": [
    "#Try to filter to see if any of the identified employees have all NaNs.\n",
    "for name, value in nan_count.iteritems():\n",
    "    if value == 1:\n",
    "        print name, value"
   ]
  },
  {
   "cell_type": "markdown",
   "metadata": {},
   "source": [
    "Our friend Eugene has all NaNs, so he needs to be removed from the data since he is an outlier."
   ]
  },
  {
   "cell_type": "code",
   "execution_count": 109,
   "metadata": {},
   "outputs": [
    {
     "data": {
      "text/plain": [
       "{'bonus': 'NaN',\n",
       " 'deferral_payments': 'NaN',\n",
       " 'deferred_income': 'NaN',\n",
       " 'director_fees': 'NaN',\n",
       " 'email_address': 'NaN',\n",
       " 'exercised_stock_options': 'NaN',\n",
       " 'expenses': 'NaN',\n",
       " 'from_messages': 'NaN',\n",
       " 'from_poi_to_this_person': 'NaN',\n",
       " 'from_this_person_to_poi': 'NaN',\n",
       " 'loan_advances': 'NaN',\n",
       " 'long_term_incentive': 'NaN',\n",
       " 'other': 'NaN',\n",
       " 'poi': False,\n",
       " 'restricted_stock': 'NaN',\n",
       " 'restricted_stock_deferred': 'NaN',\n",
       " 'salary': 'NaN',\n",
       " 'shared_receipt_with_poi': 'NaN',\n",
       " 'to_messages': 'NaN',\n",
       " 'total_payments': 'NaN',\n",
       " 'total_stock_value': 'NaN'}"
      ]
     },
     "execution_count": 109,
     "metadata": {},
     "output_type": "execute_result"
    }
   ],
   "source": [
    "enron_dataset.pop('LOCKHART EUGENE E')"
   ]
  },
  {
   "cell_type": "code",
   "execution_count": 110,
   "metadata": {},
   "outputs": [
    {
     "data": {
      "image/png": "[encoded data removed]",
      "text/plain": [
       "<matplotlib.figure.Figure at 0x117d674d0>"
      ]
     },
     "metadata": {},
     "output_type": "display_data"
    }
   ],
   "source": [
    "# salary vs. bonus\n",
    "import sys\n",
    "import matplotlib.pyplot\n",
    "sys.path.append(\"../tools/\")\n",
    "from feature_format import featureFormat, targetFeatureSplit\n",
    "%matplotlib inline\n",
    "\n",
    "# read in data dictionary and convert to numpy array\n",
    "data_dict = pickle.load( open(\"../final_project/final_project_dataset.pkl\", \"r\") )\n",
    "features = [\"salary\", \"bonus\"]\n",
    "data = featureFormat(data_dict, features)\n",
    "\n",
    "# To plot in matplotlib\n",
    "for point in data:\n",
    "    salary = point[0]\n",
    "    bonus = point[1]\n",
    "    matplotlib.pyplot.scatter( salary, bonus )\n",
    "\n",
    "matplotlib.pyplot.xlabel(\"salary\")\n",
    "matplotlib.pyplot.ylabel(\"bonus\")\n",
    "matplotlib.pyplot.show()"
   ]
  },
  {
   "cell_type": "code",
   "execution_count": 111,
   "metadata": {},
   "outputs": [
    {
     "name": "stdout",
     "output_type": "stream",
     "text": [
      "Total people with bonus: 81\n",
      "Maximum bonus was 8000000\n"
     ]
    }
   ],
   "source": [
    "# To remove NaN's and find maximum bonus \n",
    "bonuses = []\n",
    "for entry in enron_dataset:\n",
    "    if type (enron_dataset[entry]['bonus']) == int :\n",
    "        bonuses.append(enron_dataset[entry]['bonus'])\n",
    "print \"Total people with bonus: \" + str(len(bonuses))\n",
    "print \"Maximum bonus was \" + str(max(bonuses))"
   ]
  },
  {
   "cell_type": "code",
   "execution_count": 112,
   "metadata": {},
   "outputs": [
    {
     "name": "stdout",
     "output_type": "stream",
     "text": [
      "Name of person with maximum bonus LAVORATO JOHN J\n"
     ]
    }
   ],
   "source": [
    "# find the employee with the maximum bonus\n",
    "for entry in enron_dataset:\n",
    "    if enron_dataset[entry]['bonus'] == 8000000:\n",
    "        print \"Name of person with maximum bonus \" + entry"
   ]
  },
  {
   "cell_type": "markdown",
   "metadata": {},
   "source": [
    "Interesting that John Lavorato accumulated an 8 million dollar bonus.  I did some Googling to find out more about this and did find an article from the New York Times here:  https://www.nytimes.com/2002/06/18/business/officials-got-a-windfall-before-enron-s-collapse.html .  It does state that Lavorato received an 8 million dollar bonus before the collapse of Enron.  Since this is an outlier, but one that must be considered, we will leave it in the dataset."
   ]
  },
  {
   "cell_type": "markdown",
   "metadata": {},
   "source": [
    "Now that we have looked at bonuses, lets take a graphical look at both salary and bonus.  We want to close in on those with the highest salaries at this point to identify those individuals."
   ]
  },
  {
   "cell_type": "markdown",
   "metadata": {},
   "source": [
    "<DO WE NEED ANOTHER CHART LIKE THE ONE BELOW?>"
   ]
  },
  {
   "cell_type": "code",
   "execution_count": 113,
   "metadata": {},
   "outputs": [
    {
     "data": {
      "image/png": "[encoded data removed]",
      "text/plain": [
       "<matplotlib.figure.Figure at 0x10a733350>"
      ]
     },
     "metadata": {},
     "output_type": "display_data"
    }
   ],
   "source": [
    "# Comparing Salary versus Bonuses\n",
    "import sys\n",
    "import matplotlib.pyplot\n",
    "sys.path.append(\"../tools/\")\n",
    "from feature_format import featureFormat, targetFeatureSplit\n",
    "%matplotlib inline\n",
    "\n",
    "# Reading in dictionary\n",
    "data_dict = pickle.load( open(\"../final_project/final_project_dataset.pkl\", \"r\") )\n",
    "data_dict.pop('TOTAL', 0)\n",
    "features = [\"salary\", \"bonus\"]\n",
    "data = featureFormat(data_dict, features)\n",
    "\n",
    "# To plot in matplotlib\n",
    "for point in data:\n",
    "    salary = point[0]\n",
    "    bonus = point[1]\n",
    "    matplotlib.pyplot.scatter( salary, bonus )\n",
    "\n",
    "matplotlib.pyplot.xlabel(\"salary\")\n",
    "matplotlib.pyplot.ylabel(\"bonus\")\n",
    "matplotlib.pyplot.show()"
   ]
  },
  {
   "cell_type": "markdown",
   "metadata": {},
   "source": []
  },
  {
   "cell_type": "code",
   "execution_count": 114,
   "metadata": {},
   "outputs": [
    {
     "name": "stdout",
     "output_type": "stream",
     "text": [
      "[('SKILLING JEFFREY K', 1111258),\n",
      " ('LAY KENNETH L', 1072321),\n",
      " ('FREVERT MARK A', 1060932),\n",
      " ('PICKERING MARK R', 655037)]\n"
     ]
    }
   ],
   "source": [
    "# Find the four outliers of employees with highest salary over $6 million\n",
    "from pprint import pprint\n",
    "outliers_salary = []\n",
    "for key in enron_dataset:\n",
    "    val = enron_dataset[key]['salary']\n",
    "    if val == 'NaN':\n",
    "        continue\n",
    "    outliers_salary.append((key,int(val)))\n",
    "\n",
    "top_4 = sorted(outliers_salary,key=lambda x:x[1],reverse=True)[:4]\n",
    "\n",
    "pprint(top_4)"
   ]
  },
  {
   "cell_type": "code",
   "execution_count": 115,
   "metadata": {},
   "outputs": [
    {
     "name": "stdout",
     "output_type": "stream",
     "text": [
      "SKILLING JEFFREY K\n",
      "LAY KENNETH L\n"
     ]
    }
   ],
   "source": [
    "# Are any of these employees identified as POIs?\n",
    "for people in top_4:\n",
    "    if enron_dataset[people[0]]['poi'] == 1:\n",
    "        print people[0]"
   ]
  },
  {
   "cell_type": "markdown",
   "metadata": {},
   "source": [
    "Not a surprise that Skilling and Lay were in this list of the top 4 salaries since they are POIs."
   ]
  },
  {
   "cell_type": "code",
   "execution_count": 116,
   "metadata": {},
   "outputs": [],
   "source": [
    "# Combining Lists\n",
    "def get_total_list(key1, key2):\n",
    "    'combine 2 lists in one, assign NaN to 0'\n",
    "    new_list = []\n",
    "    for i in enron_dataset:\n",
    "        # assign NaN to 0\n",
    "        if enron_dataset[i][key1] == 'NaN' or enron_dataset[i][key2] == 'NaN':\n",
    "            new_list.append(0.)\n",
    "        elif enron_dataset[i][key1]>=0:\n",
    "            new_list.append(float(enron_dataset[i][key1]) + float(enron_dataset[i][key2]))\n",
    "    return new_list"
   ]
  },
  {
   "cell_type": "markdown",
   "metadata": {},
   "source": [
    "We are now going to find the top number of POI related emails per person."
   ]
  },
  {
   "cell_type": "code",
   "execution_count": 117,
   "metadata": {},
   "outputs": [
    {
     "name": "stdout",
     "output_type": "stream",
     "text": [
      "['HANNON KEVIN P', 'COLWELL WESLEY', 'RIEKER PAULA H', 'KOPPER MICHAEL J', 'SHELBY REX', 'DELAINEY DAVID W', 'LAY KENNETH L', 'BOWEN JR RAYMOND M', 'BELDEN TIMOTHY N', 'FASTOW ANDREW S', 'CALGER CHRISTOPHER F', 'RICE KENNETH D', 'SKILLING JEFFREY K', 'YEAGER F SCOTT', 'HIRKO JOSEPH', 'KOENIG MARK E', 'CAUSEY RICHARD A', 'GLISAN JR BEN F']\n",
      "[39.0, 0.0, 0.0, 10.0, 53.0, 0.0, 0.0, 84.0, 59.0, 109.0, 27.0, 12.0, 27.0, 50.0, 0.0, 0.0, 251.0, 12.0, 44.0, 0.0, 0.0, 17.0, 445.0, 0.0, 0.0, 177.0, 0.0, 4.0, 0.0, 31.0, 83.0, 0.0, 530.0, 11.0, 0.0, 0.0, 41.0, 0.0, 10.0, 16.0, 27.0, 0.0, 81.0, 939.0, 0.0, 0.0, 0.0, 0.0, 0.0, 39.0, 0.0, 139.0, 51.0, 27.0, 0.0, 119.0, 0.0, 210.0, 286.0, 1.0, 675.0, 0.0, 0.0, 0.0, 0.0, 139.0, 0.0, 35.0, 55.0, 0.0, 0.0, 52.0, 0.0, 0.0, 0.0, 241.0, 155.0, 0.0, 9.0, 0.0, 253.0, 0.0, 336.0, 109.0, 0.0, 0.0, 0.0, 224.0, 46.0, 212.0, 4.0, 0.0, 0.0, 0.0, 118.0, 0.0, 57.0, 0.0, 0.0, 7.0, 0.0, 527.0, 0.0, 29.0, 0.0, 0.0, 112.0, 30.0, 0.0, 0.0, 14.0, 0.0, 40.0, 0.0, 0.0, 1.0, 36.0, 0.0, 0.0, 13.0, 37.0, 13.0, 0.0, 0.0, 319.0, 84.0, 248.0, 0.0, 0.0, 73.0, 0.0, 79.0, 68.0, 0.0, 33.0, 21.0, 8.0, 227.0, 0.0, 70.0, 0.0, 199.0, 58.0]\n"
     ]
    }
   ],
   "source": [
    "# Find the total of POI related emails\n",
    "total_poi_emails = get_total_list('from_this_person_to_poi', 'from_poi_to_this_person')\n",
    "print poi_name\n",
    "print str (total_poi_emails)"
   ]
  },
  {
   "cell_type": "markdown",
   "metadata": {},
   "source": [
    "Seems hard to read, so we will just print the top 10 employees who sent emails to POIs."
   ]
  },
  {
   "cell_type": "code",
   "execution_count": 118,
   "metadata": {},
   "outputs": [
    {
     "name": "stdout",
     "output_type": "stream",
     "text": [
      "[('DELAINEY DAVID W', 609),\n",
      " ('LAVORATO JOHN J', 411),\n",
      " ('KEAN STEVEN J', 387),\n",
      " ('BECK SALLY W', 386),\n",
      " ('KITCHEN LOUISE', 194),\n",
      " ('MCCONNELL MICHAEL S', 194),\n",
      " ('KAMINSKI WINCENTY J', 171),\n",
      " ('BELDEN TIMOTHY N', 108),\n",
      " ('SHANKMAN JEFFREY A', 83),\n",
      " ('BUY RICHARD B', 71)]\n"
     ]
    }
   ],
   "source": [
    "# Find the top ten employees who sent emails to POIs\n",
    "from pprint import pprint\n",
    "outlier_poi_emails = []\n",
    "for key in enron_dataset:\n",
    "    val = enron_dataset[key]['from_this_person_to_poi']\n",
    "    if val == 'NaN':\n",
    "        continue\n",
    "    outlier_poi_emails.append((key,int(val)))\n",
    "\n",
    "top_10 = sorted(outlier_poi_emails,key=lambda x:x[1],reverse=True)[:10]\n",
    "\n",
    "pprint(top_10)"
   ]
  },
  {
   "cell_type": "markdown",
   "metadata": {},
   "source": [
    "Now we will see the top 10 employees receiving emails from POIs."
   ]
  },
  {
   "cell_type": "code",
   "execution_count": 119,
   "metadata": {},
   "outputs": [
    {
     "name": "stdout",
     "output_type": "stream",
     "text": [
      "[('LAVORATO JOHN J', 528),\n",
      " ('DIETRICH JANET R', 305),\n",
      " ('KITCHEN LOUISE', 251),\n",
      " ('FREVERT MARK A', 242),\n",
      " ('COLWELL WESLEY', 240),\n",
      " ('BELDEN TIMOTHY N', 228),\n",
      " ('REDMOND BRIAN L', 204),\n",
      " ('CALGER CHRISTOPHER F', 199),\n",
      " ('DONAHUE JR JEFFREY M', 188),\n",
      " ('WHALLEY LAWRENCE G', 186)]\n"
     ]
    }
   ],
   "source": [
    "# Find the top ten employees who received emails from POIs\n",
    "from pprint import pprint\n",
    "outlier_poi_emails = []\n",
    "for key in enron_dataset:\n",
    "    val = enron_dataset[key]['from_poi_to_this_person']\n",
    "    if val == 'NaN':\n",
    "        continue\n",
    "    outlier_poi_emails.append((key,int(val)))\n",
    "\n",
    "top_10 = sorted(outlier_poi_emails,key=lambda x:x[1],reverse=True)[:10]\n",
    "\n",
    "pprint(top_10)"
   ]
  },
  {
   "cell_type": "code",
   "execution_count": 120,
   "metadata": {},
   "outputs": [
    {
     "name": "stdout",
     "output_type": "stream",
     "text": [
      "[836.0, 0.0, 0.0, 776.0, 1077.0, 0.0, 260.0, 2403.0, 3423.0, 1460.0, 145.0, 129.0, 2489.0, 2685.0, 181.0, 0.0, 1798.0, 152.0, 314.0, 0.0, 0.0, 817.0, 10033.0, 0.0, 0.0, 5902.0, 0.0, 442.0, 0.0, 1647.0, 1410.0, 0.0, 11658.0, 592.0, 0.0, 0.0, 1347.0, 0.0, 978.0, 516.0, 1648.0, 0.0, 2885.0, 9844.0, 0.0, 0.0, 0.0, 679.0, 0.0, 595.0, 0.0, 16364.0, 3279.0, 264.0, 0.0, 788.0, 0.0, 6575.0, 6071.0, 74.0, 6162.0, 0.0, 0.0, 0.0, 0.0, 4309.0, 0.0, 1236.0, 907.0, 0.0, 0.0, 1793.0, 0.0, 0.0, 0.0, 5950.0, 1885.0, 0.0, 952.0, 691.0, 1892.0, 0.0, 8475.0, 916.0, 307.0, 0.0, 70.0, 2742.0, 923.0, 18975.0, 135.0, 0.0, 0.0, 0.0, 3735.0, 0.0, 638.0, 0.0, 0.0, 965.0, 0.0, 19513.0, 553.0, 430.0, 0.0, 0.0, 5097.0, 3272.0, 0.0, 0.0, 1527.0, 0.0, 753.0, 0.0, 0.0, 552.0, 327.0, 1213.0, 0.0, 2237.0, 253.0, 190.0, 0.0, 0.0, 2635.0, 3090.0, 3296.0, 0.0, 0.0, 3710.0, 0.0, 1830.0, 2435.0, 0.0, 515.0, 479.0, 1752.0, 4576.0, 0.0, 1941.0, 562.0, 887.0, 889.0]\n"
     ]
    }
   ],
   "source": [
    "# Find the total number of emails per person\n",
    "total_emails = get_total_list('to_messages', 'from_messages')\n",
    "print total_emails"
   ]
  },
  {
   "cell_type": "markdown",
   "metadata": {},
   "source": [
    "# New Feature"
   ]
  },
  {
   "cell_type": "markdown",
   "metadata": {},
   "source": [
    "I want to take the number of POI emails and divide those by the total number of emails per person to come up with a percentage of overall POI emails."
   ]
  },
  {
   "cell_type": "code",
   "execution_count": 121,
   "metadata": {
    "collapsed": true
   },
   "outputs": [],
   "source": [
    "# Defining the fraction list to find the percentage of poi emails to total emails\n",
    "def email_fraction(list1, list2):\n",
    "    'divide one list by other'\n",
    "    fraction = []\n",
    "    for i in range(0,len(list1)):\n",
    "        if list2[i] == 0.0:\n",
    "            fraction.append(0.0)\n",
    "                #print list2[j]\n",
    "                #fraction.append(0.0)\n",
    "        else:\n",
    "            fraction.append(float(list1[i])/float(list2[i]))\n",
    "            #print fraction\n",
    "    return fraction"
   ]
  },
  {
   "cell_type": "code",
   "execution_count": 122,
   "metadata": {},
   "outputs": [
    {
     "name": "stdout",
     "output_type": "stream",
     "text": [
      "[0.04665071770334928, 0.0, 0.0, 0.01288659793814433, 0.04921077065923862, 0.0, 0.0, 0.03495630461922597, 0.017236342389716622, 0.07465753424657534, 0.18620689655172415, 0.09302325581395349, 0.010847730012053034, 0.0186219739292365, 0.0, 0.0, 0.13959955506117908, 0.07894736842105263, 0.14012738853503184, 0.0, 0.0, 0.0208078335373317, 0.044353633011063494, 0.0, 0.0, 0.029989833954591663, 0.0, 0.00904977375565611, 0.0, 0.018822100789313904, 0.058865248226950356, 0.0, 0.0454623434551381, 0.018581081081081082, 0.0, 0.0, 0.030438010393466965, 0.0, 0.010224948875255624, 0.031007751937984496, 0.016383495145631068, 0.0, 0.028076256499133447, 0.09538805363673304, 0.0, 0.0, 0.0, 0.0, 0.0, 0.06554621848739496, 0.0, 0.00849425568320704, 0.01555352241537054, 0.10227272727272728, 0.0, 0.15101522842639595, 0.0, 0.03193916349809886, 0.047109207708779445, 0.013513513513513514, 0.10954235637779941, 0.0, 0.0, 0.0, 0.0, 0.03225806451612903, 0.0, 0.02831715210355987, 0.06063947078280044, 0.0, 0.0, 0.029001673173452314, 0.0, 0.0, 0.0, 0.04050420168067227, 0.08222811671087533, 0.0, 0.009453781512605041, 0.0, 0.13372093023255813, 0.0, 0.03964601769911504, 0.11899563318777293, 0.0, 0.0, 0.0, 0.08169219547775347, 0.04983748645720477, 0.011172595520421607, 0.02962962962962963, 0.0, 0.0, 0.0, 0.03159303882195449, 0.0, 0.08934169278996865, 0.0, 0.0, 0.007253886010362694, 0.0, 0.02700763593501768, 0.0, 0.06744186046511629, 0.0, 0.0, 0.0219737100255052, 0.009168704156479218, 0.0, 0.0, 0.0091683038637852, 0.0, 0.05312084993359894, 0.0, 0.0, 0.0018115942028985507, 0.11009174311926606, 0.0, 0.0, 0.00581135449262405, 0.14624505928853754, 0.06842105263157895, 0.0, 0.0, 0.12106261859582543, 0.027184466019417475, 0.07524271844660194, 0.0, 0.0, 0.019676549865229112, 0.0, 0.04316939890710383, 0.02792607802874743, 0.0, 0.06407766990291262, 0.04384133611691023, 0.0045662100456621, 0.04960664335664336, 0.0, 0.03606388459556929, 0.0, 0.22435174746335965, 0.06524184476940383]\n"
     ]
    }
   ],
   "source": [
    "# Finding the fraction of POI emails from individuals\n",
    "fraction_poi_emails = email_fraction(total_poi_emails, total_emails)\n",
    "print fraction_poi_emails"
   ]
  },
  {
   "cell_type": "code",
   "execution_count": 123,
   "metadata": {},
   "outputs": [
    {
     "name": "stdout",
     "output_type": "stream",
     "text": [
      "DELAINEY fraction_poi_emails:  0.109542356378\n"
     ]
    }
   ],
   "source": [
    "# Adding the new feature to the dataset\n",
    "count = 0\n",
    "for i in enron_dataset:\n",
    "    enron_dataset[i]['fraction_poi_emails'] = fraction_poi_emails[count]\n",
    "    count += 1\n",
    "\n",
    "# Testing David W Delainey at random\n",
    "print 'DELAINEY fraction_poi_emails: ', enron_dataset['DELAINEY DAVID W']['fraction_poi_emails']"
   ]
  },
  {
   "cell_type": "code",
   "execution_count": 124,
   "metadata": {},
   "outputs": [
    {
     "data": {
      "image/png": "[encoded data removed]",
      "text/plain": [
       "<matplotlib.figure.Figure at 0x116512590>"
      ]
     },
     "metadata": {},
     "output_type": "display_data"
    }
   ],
   "source": [
    "# Checking to see if correlation exists between POIs and fraction of POI emails\n",
    "new_features_list = ['poi', 'fraction_poi_emails']\n",
    "data = featureFormat(enron_dataset, new_features_list)\n",
    "\n",
    "%matplotlib inline\n",
    "\n",
    "for point in data:\n",
    "    poi = point[0]\n",
    "    fraction_poi_emails = point[1]\n",
    "    #matplotlib.pyplot.boxplot( data )\n",
    "    if point[0] == 1:\n",
    "        matplotlib.pyplot.scatter(poi, fraction_poi_emails, color = 'g')\n",
    "    else:\n",
    "        matplotlib.pyplot.scatter(poi, fraction_poi_emails, color = 'y')\n",
    "    #matplotlib.pyplot.boxplot(data)\n",
    "matplotlib.pyplot.xlabel(\"poi\")\n",
    "matplotlib.pyplot.ylabel(\"fraction_poi_emails\")\n",
    "matplotlib.pyplot.show()"
   ]
  },
  {
   "cell_type": "markdown",
   "metadata": {},
   "source": [
    "We can see that the yellow dots indicate no relationship between fraction of POI emails and POIs, while the green dots indicate correlation between the emails and POIs.  While not a strong relationship, there is some existence of the fraction of poi emails to correlate to POIs.  After consideration, I have decided not to include the new feature in the feature selection.  I did not want overlap with the other email indicators and felt that those are also good indicators of identifying POIs."
   ]
  },
  {
   "cell_type": "markdown",
   "metadata": {},
   "source": [
    "# Feature Selection"
   ]
  },
  {
   "cell_type": "markdown",
   "metadata": {},
   "source": [
    "I wanted to compare the best features of the dataset using two different algorithms.  I decided to compare DecisionTree and SelectKBest to determine what features in the dataset were most important and then run comparisons to see which algorithm was more accurate at predicting POIs."
   ]
  },
  {
   "cell_type": "markdown",
   "metadata": {},
   "source": [
    "### DecisionTree with all features"
   ]
  },
  {
   "cell_type": "code",
   "execution_count": 125,
   "metadata": {},
   "outputs": [
    {
     "name": "stdout",
     "output_type": "stream",
     "text": [
      "Accuracy: 0.844827586207\n",
      "Precision:  0.333333333333\n",
      "Recall:  0.125\n",
      "Decision Tree algorithm run time:  0.00441 s\n",
      "Feature Ranking: \n",
      "1 feature salary (0.337437907714)\n",
      "2 feature from_poi_to_this_person (0.161410018553)\n",
      "3 feature from_this_person_to_poi (0.109563164109)\n",
      "4 feature to_messages (0.101688311688)\n",
      "5 feature deferral_payments (0.0753246753247)\n",
      "6 feature total_payments (0.0753246753247)\n",
      "7 feature exercised_stock_options (0.0564935064935)\n",
      "8 feature bonus (0.048961038961)\n",
      "9 feature restricted_stock (0.0337967018319)\n",
      "10 feature shared_receipt_with_poi (0.0)\n"
     ]
    }
   ],
   "source": [
    "#Loading the scores for comparison of features\n",
    "import pickle\n",
    "import sys\n",
    "sys.path.append(\"../tools/\")\n",
    "from feature_format import featureFormat, targetFeatureSplit\n",
    "from sklearn.cross_validation import train_test_split\n",
    "import numpy as np\n",
    "np.random.seed(42)\n",
    "from time import time\n",
    "from sklearn.metrics import precision_score\n",
    "from sklearn.metrics import recall_score\n",
    "from sklearn.metrics import f1_score\n",
    "\n",
    "#Loading the dataset\n",
    "data_dict = pickle.load(open(\"../final_project/final_project_dataset.pkl\", \"r\") )\n",
    "\n",
    "#Defining the features list\n",
    "features_list = ['poi','salary', 'from_poi_to_this_person', 'from_this_person_to_poi', 'to_messages', \n",
    "                 'deferral_payments', 'total_payments', 'exercised_stock_options', 'bonus', 'restricted_stock', \n",
    "                 'shared_receipt_with_poi', 'restricted_stock_deferred', 'total_stock_value', 'expenses', \n",
    "                 'loan_advances', 'from_messages', 'other', 'director_fees', 'deferred_income', 'long_term_incentive']\n",
    "\n",
    "data = featureFormat(data_dict, features_list)\n",
    "labels, features = targetFeatureSplit(data)\n",
    "\n",
    "#Defining the training and testing lists\n",
    "features_train, features_test, labels_train, labels_test = train_test_split(features, labels, test_size = 0.4, random_state = 42)\n",
    "\n",
    "#Indication to use Decision Tree\n",
    "from sklearn.tree import DecisionTreeClassifier\n",
    "t0 = time()\n",
    "clf = DecisionTreeClassifier()\n",
    "clf = clf.fit(features_train, labels_train)\n",
    "pred = clf.predict(features_test)\n",
    "\n",
    "#Printing accuracy, precision, recall, and run time\n",
    "from sklearn.metrics import accuracy_score\n",
    "acc = accuracy_score(labels_test, pred)\n",
    "print 'Accuracy: ' + (str(acc))\n",
    "print 'Precision: ', precision_score(labels_test, pred)\n",
    "print 'Recall: ', recall_score(labels_test, pred)\n",
    "print 'Decision Tree algorithm run time: ', round(time()-t0, 5), 's'\n",
    "\n",
    "\n",
    "# list of importance features\n",
    "importances = clf.feature_importances_\n",
    "indices = np.argsort(importances)[::-1]\n",
    "print 'Feature Ranking: '\n",
    "for i in range(10):\n",
    "    print \"{} feature {} ({})\".format(i+1,features_list[i+1],importances[indices[i]])"
   ]
  },
  {
   "cell_type": "markdown",
   "metadata": {},
   "source": [
    "Next, let's run SelectKBest to find out what the top ten features are for that algorithm."
   ]
  },
  {
   "cell_type": "markdown",
   "metadata": {},
   "source": [
    "### SelectKBest with all features"
   ]
  },
  {
   "cell_type": "code",
   "execution_count": 126,
   "metadata": {},
   "outputs": [
    {
     "name": "stdout",
     "output_type": "stream",
     "text": [
      "Best features:  ['salary', 'to_messages', 'deferral_payments', 'total_payments', 'restricted_stock', 'expenses', 'other', 'from_this_person_to_poi', 'poi', 'long_term_incentive']\n"
     ]
    }
   ],
   "source": [
    "#Loading the SelectKBest/GridSearchCV/Pipeline to find the best features\n",
    "import pickle\n",
    "import sys\n",
    "sys.path.append(\"../tools/\")\n",
    "from feature_format import featureFormat, targetFeatureSplit\n",
    "from sklearn.cross_validation import train_test_split\n",
    "import numpy as np\n",
    "np.random.seed(42)\n",
    "from sklearn.feature_selection import SelectKBest, f_classif\n",
    "from sklearn.grid_search import GridSearchCV\n",
    "from sklearn.pipeline import Pipeline\n",
    "\n",
    "#Loading the dataset\n",
    "data_dict = pickle.load(open(\"../final_project/final_project_dataset.pkl\", \"r\") )\n",
    "\n",
    "#Defining the features list\n",
    "features_list = ['poi', 'salary', 'to_messages', 'deferral_payments', 'total_payments', 'exercised_stock_options', \n",
    "                 'bonus', 'restricted_stock', 'shared_receipt_with_poi', 'restricted_stock_deferred', \n",
    "                 'total_stock_value', 'expenses', 'loan_advances', 'from_messages', 'other', 'from_this_person_to_poi',\n",
    "                 'poi', 'director_fees', 'deferred_income', 'long_term_incentive', 'from_poi_to_this_person']\n",
    "\n",
    "data = featureFormat(data_dict, features_list)\n",
    "labels, features = targetFeatureSplit(data)\n",
    "\n",
    "#Defining the training and testing lists\n",
    "features_train, features_test, labels_train, labels_test = train_test_split(features, labels, test_size = 0.4, random_state = 42)\n",
    "\n",
    "#Indication to use SelectKBest\n",
    "from sklearn.feature_selection import SelectKBest\n",
    "selector = SelectKBest(k=10)\n",
    "selectedFeatures = selector.fit(features,labels)\n",
    "feature_names = [features_list[i] for i in selectedFeatures.get_support(indices=True)]\n",
    "print 'Best features: ', feature_names"
   ]
  },
  {
   "cell_type": "markdown",
   "metadata": {},
   "source": [
    "### DecisionTree after best features identified by DecisionTree"
   ]
  },
  {
   "cell_type": "code",
   "execution_count": 127,
   "metadata": {},
   "outputs": [
    {
     "name": "stdout",
     "output_type": "stream",
     "text": [
      "Accuracy: 0.758620689655\n",
      "Precision:  0.2\n",
      "Recall:  0.25\n",
      "F1 score: 0.222222222222\n",
      "Decision Tree algorithm run time:  0.00577 s\n"
     ]
    }
   ],
   "source": [
    "#Loading the scores for comparison of features\n",
    "import pickle\n",
    "import sys\n",
    "sys.path.append(\"../tools/\")\n",
    "from feature_format import featureFormat, targetFeatureSplit\n",
    "from sklearn.cross_validation import train_test_split\n",
    "import numpy as np\n",
    "np.random.seed(42)\n",
    "from time import time\n",
    "from sklearn.metrics import precision_score\n",
    "from sklearn.metrics import recall_score\n",
    "\n",
    "#Loading the dataset\n",
    "data_dict = pickle.load(open(\"../final_project/final_project_dataset.pkl\", \"r\") )\n",
    "\n",
    "#Defining the features list\n",
    "features_list = ['poi', 'deferral_payments', 'salary', 'from_poi_to_this_person', 'to_messages', \n",
    "                 'exercised_stock_options','total_payments', 'restricted_stock', 'from_this_person_to_poi', \n",
    "                 'shared_receipt_with_poi']\n",
    "\n",
    "data = featureFormat(data_dict, features_list)\n",
    "labels, features = targetFeatureSplit(data)\n",
    "\n",
    "#Defining the training and testing lists\n",
    "features_train, features_test, labels_train, labels_test = train_test_split(features, labels, test_size = 0.4, \n",
    "                                                                            random_state = 42)\n",
    "\n",
    "#Indication to use DecisionTree\n",
    "from sklearn.tree import DecisionTreeClassifier\n",
    "t0 = time()\n",
    "clf = DecisionTreeClassifier()\n",
    "clf = clf.fit(features_train, labels_train)\n",
    "pred = clf.predict(features_test)\n",
    "\n",
    "#Printing accuracy, precision, recall, and run time\n",
    "from sklearn.metrics import accuracy_score\n",
    "acc = accuracy_score(labels_test, pred)\n",
    "\n",
    "print 'Accuracy: ' + str(acc)\n",
    "print 'Precision: ', precision_score(labels_test, pred)\n",
    "print 'Recall: ', recall_score(labels_test, pred)\n",
    "print 'F1 score:', f1_score(labels_test, pred)\n",
    "print 'Decision Tree algorithm run time: ', round(time()-t0, 5), 's'\n",
    "\n"
   ]
  },
  {
   "cell_type": "markdown",
   "metadata": {},
   "source": [
    "Not bad.  Now we are going to see if we can be more accurate with the 10 best features chosen by SelectKBest."
   ]
  },
  {
   "cell_type": "markdown",
   "metadata": {},
   "source": [
    "### DecisionTree after best features identified by SelectKBest"
   ]
  },
  {
   "cell_type": "code",
   "execution_count": 128,
   "metadata": {},
   "outputs": [
    {
     "name": "stdout",
     "output_type": "stream",
     "text": [
      "Accuracy: 0.701754385965\n",
      "Precision:  0.142857142857\n",
      "Recall:  0.285714285714\n",
      "F1 score: 0.190476190476\n",
      "Decision Tree algorithm run time:  0.00593 s\n"
     ]
    }
   ],
   "source": [
    "#Loading the scores for comparison of features\n",
    "import pickle\n",
    "import sys\n",
    "sys.path.append(\"../tools/\")\n",
    "from feature_format import featureFormat, targetFeatureSplit\n",
    "from sklearn.cross_validation import train_test_split\n",
    "import numpy as np\n",
    "np.random.seed(42)\n",
    "from time import time\n",
    "from sklearn.metrics import precision_score\n",
    "from sklearn.metrics import recall_score\n",
    "\n",
    "#Loading the dataset\n",
    "data_dict = pickle.load(open(\"../final_project/final_project_dataset.pkl\", \"r\") )\n",
    "\n",
    "#Defining the features list\n",
    "features_list = ['poi', 'deferral_payments', 'salary', 'expenses', 'to_messages', 'other', \n",
    "                 'total_payments', 'restricted_stock', 'from_this_person_to_poi', 'long_term_incentive']\n",
    "\n",
    "data = featureFormat(data_dict, features_list)\n",
    "labels, features = targetFeatureSplit(data)\n",
    "\n",
    "#Defining the training and testing lists\n",
    "features_train, features_test, labels_train, labels_test = train_test_split(features, labels, test_size = 0.4, \n",
    "                                                                            random_state = 42)\n",
    "\n",
    "#Indication to use DecisionTree\n",
    "from sklearn.tree import DecisionTreeClassifier\n",
    "t0 = time()\n",
    "clf = DecisionTreeClassifier()\n",
    "clf = clf.fit(features_train, labels_train)\n",
    "pred = clf.predict(features_test)\n",
    "\n",
    "#Printing accuracy, precision, recall, and run time\n",
    "from sklearn.metrics import accuracy_score\n",
    "acc = accuracy_score(labels_test, pred)\n",
    "\n",
    "print 'Accuracy: ' + str(acc)\n",
    "print 'Precision: ', precision_score(labels_test, pred)\n",
    "print 'Recall: ', recall_score(labels_test, pred)\n",
    "print 'F1 score:', f1_score(labels_test, pred)\n",
    "print 'Decision Tree algorithm run time: ', round(time()-t0, 5), 's'\n"
   ]
  },
  {
   "cell_type": "markdown",
   "metadata": {},
   "source": [
    "In comparison, the DecisionTree classifier earned better accuracy over the SelectKBest by about a 5% increase.  The precision was also slightly higher, while the recall was just slightly lower than the SelectKBest.  Due to this, we are going to stick with the features selected by the DecisionTree classifier and use those to tune our set."
   ]
  },
  {
   "cell_type": "markdown",
   "metadata": {},
   "source": [
    "# Picking And Tuning An Algorithm"
   ]
  },
  {
   "cell_type": "markdown",
   "metadata": {},
   "source": [
    "Now that we have picked our top 10 features, we will put those into various algorithms to see which one is the most accurate, along with having good precision, recall, and F1 scores.  I decided to choose DecisionTree, AdaBoost, and Logistic Regression."
   ]
  },
  {
   "cell_type": "markdown",
   "metadata": {},
   "source": [
    "### DecisionTree"
   ]
  },
  {
   "cell_type": "code",
   "execution_count": 135,
   "metadata": {},
   "outputs": [
    {
     "name": "stdout",
     "output_type": "stream",
     "text": [
      "Accuracy: 0.741379310345\n",
      "Precision:  0.181818181818\n",
      "Recall:  0.25\n",
      "F1 score: 0.210526315789\n",
      "Random algorithm run time:  0.0113 s\n"
     ]
    }
   ],
   "source": [
    "#Features list\n",
    "features_list = ['poi', 'deferral_payments', 'salary', 'from_poi_to_this_person', 'to_messages', \n",
    "                 'exercised_stock_options','total_payments', 'restricted_stock', 'from_this_person_to_poi', \n",
    "                 'shared_receipt_with_poi']\n",
    "data = featureFormat(data_dict, features_list)\n",
    "labels, features = targetFeatureSplit(data)\n",
    "\n",
    "#Splitting data for training and testing\n",
    "features_train, features_test, labels_train, labels_test = train_test_split(features, labels, test_size = 0.4, random_state = 42)\n",
    "\n",
    "#Indication to use DecisionTree\n",
    "from sklearn.tree import DecisionTreeClassifier\n",
    "t0 = time()\n",
    "clf = DecisionTreeClassifier()\n",
    "clf = clf.fit(features_train, labels_train)\n",
    "pred = clf.predict(features_test)\n",
    "\n",
    "#Printing accuracy, precision, recall, and run time\n",
    "from sklearn.metrics import accuracy_score\n",
    "acc = accuracy_score(labels_test, pred)\n",
    "\n",
    "print 'Accuracy: ' + str(acc)\n",
    "print 'Precision: ', precision_score(labels_test, pred)\n",
    "print 'Recall: ', recall_score(labels_test, pred)\n",
    "print 'F1 score:', f1_score(labels_test, pred)\n",
    "print 'Random algorithm run time: ', round(time()-t0, 5), 's'"
   ]
  },
  {
   "cell_type": "markdown",
   "metadata": {},
   "source": [
    "### AdaBoost"
   ]
  },
  {
   "cell_type": "code",
   "execution_count": 130,
   "metadata": {},
   "outputs": [
    {
     "name": "stdout",
     "output_type": "stream",
     "text": [
      "Accuracy: 0.706896551724\n",
      "Precision:  0.0909090909091\n",
      "Recall:  0.125\n",
      "F1 score: 0.105263157895\n",
      "Adaboost algorithm run time:  0.35331 s\n"
     ]
    }
   ],
   "source": [
    "#Features list\n",
    "features_list = ['poi', 'deferral_payments', 'salary', 'from_poi_to_this_person', 'to_messages', \n",
    "                 'exercised_stock_options','total_payments', 'restricted_stock', 'from_this_person_to_poi', \n",
    "                 'shared_receipt_with_poi']\n",
    "data = featureFormat(data_dict, features_list)\n",
    "labels, features = targetFeatureSplit(data)\n",
    "\n",
    "#Splitting data for training and testing\n",
    "features_train, features_test, labels_train, labels_test = train_test_split(features, labels, test_size = 0.4, random_state = 42)\n",
    "\n",
    "#Indication to use Adaboost\n",
    "from sklearn.ensemble import AdaBoostClassifier\n",
    "t0 = time()\n",
    "clf = AdaBoostClassifier()\n",
    "clf = clf.fit(features_train, labels_train)\n",
    "pred = clf.predict(features_test)\n",
    "\n",
    "#Printing accuracy, precision, recall, and run time\n",
    "from sklearn.metrics import accuracy_score\n",
    "acc = accuracy_score(labels_test, pred)\n",
    "\n",
    "print 'Accuracy: ' + str(acc)\n",
    "print 'Precision: ', precision_score(labels_test, pred)\n",
    "print 'Recall: ', recall_score(labels_test, pred)\n",
    "print 'F1 score:', f1_score(labels_test, pred)\n",
    "print 'Adaboost algorithm run time: ', round(time()-t0, 5), 's'"
   ]
  },
  {
   "cell_type": "markdown",
   "metadata": {},
   "source": [
    "### Logistic Regression"
   ]
  },
  {
   "cell_type": "code",
   "execution_count": 131,
   "metadata": {},
   "outputs": [
    {
     "name": "stdout",
     "output_type": "stream",
     "text": [
      "Accuracy: 0.724137931034\n",
      "Precision:  0.166666666667\n",
      "Recall:  0.25\n",
      "F1 score: 0.2\n",
      "Logistic regression algorithm run time:  0.0082 s\n"
     ]
    }
   ],
   "source": [
    "#Features list\n",
    "features_list = ['poi', 'deferral_payments', 'salary', 'from_poi_to_this_person', 'to_messages', \n",
    "                 'exercised_stock_options','total_payments', 'restricted_stock', 'from_this_person_to_poi', \n",
    "                 'shared_receipt_with_poi']\n",
    "data = featureFormat(data_dict, features_list)\n",
    "labels, features = targetFeatureSplit(data)\n",
    "\n",
    "#Splitting data for training and testing\n",
    "features_train, features_test, labels_train, labels_test = train_test_split(features, labels, test_size = 0.4, random_state = 42)\n",
    "\n",
    "#Indication to use Logistic Regression\n",
    "from sklearn.linear_model import LogisticRegression\n",
    "t0 = time()\n",
    "clf = LogisticRegression()\n",
    "clf = clf.fit(features_train, labels_train)\n",
    "pred = clf.predict(features_test)\n",
    "\n",
    "#Printing accuracy, precision, recall, and run time\n",
    "from sklearn.metrics import accuracy_score\n",
    "acc = accuracy_score(labels_test, pred)\n",
    "\n",
    "\n",
    "print 'Accuracy: ' + str(acc)\n",
    "print 'Precision: ', precision_score(labels_test, pred)\n",
    "print 'Recall: ', recall_score(labels_test, pred)\n",
    "print 'F1 score:', f1_score(labels_test, pred)\n",
    "print 'Logistic regression algorithm run time: ', round(time()-t0, 5), 's'"
   ]
  },
  {
   "cell_type": "markdown",
   "metadata": {},
   "source": [
    "Our top two most accurate algorithms were DecisionTree and LogisticRegression.  Now, we are going to validate and tune the two models with GridSearch and then see which one produces the best results in the tester.py file."
   ]
  },
  {
   "cell_type": "markdown",
   "metadata": {},
   "source": [
    "# Validate and Evaluate"
   ]
  },
  {
   "cell_type": "markdown",
   "metadata": {},
   "source": [
    "Now we will evaluate the parameters of the algorithms to decide on the best ones to manipulate to get the optimum results in our POI identifier."
   ]
  },
  {
   "cell_type": "markdown",
   "metadata": {},
   "source": [
    "### Decision Tree Model under GridSearchCV"
   ]
  },
  {
   "cell_type": "code",
   "execution_count": 132,
   "metadata": {},
   "outputs": [
    {
     "name": "stdout",
     "output_type": "stream",
     "text": [
      "done in 5.59466s\n",
      "Best estimator found by grid search:\n",
      "DecisionTreeClassifier(class_weight=None, criterion='gini', max_depth=1,\n",
      "            max_features=3, max_leaf_nodes=None, min_impurity_decrease=0.0,\n",
      "            min_impurity_split=None, min_samples_leaf=1,\n",
      "            min_samples_split=2, min_weight_fraction_leaf=0.0,\n",
      "            presort=False, random_state=None, splitter='best')\n"
     ]
    }
   ],
   "source": [
    "from sklearn.grid_search import GridSearchCV\n",
    "from sklearn.tree import DecisionTreeClassifier\n",
    "t0 = time()\n",
    "param_grid = {\n",
    "         'min_samples_split': range (2, 8),\n",
    "         'max_depth': range (1, 8),\n",
    "         'max_features': range(3,10),\n",
    "         'criterion': ('gini', 'entropy')\n",
    "          }\n",
    "clf = GridSearchCV(DecisionTreeClassifier(), param_grid)\n",
    "clf = clf.fit(features_train, labels_train)\n",
    "\n",
    "#Printing the best estimator using DecisionTree\n",
    "print \"done in %0.5fs\" % (time() - t0)\n",
    "print \"Best estimator found by grid search:\"\n",
    "print clf.best_estimator_"
   ]
  },
  {
   "cell_type": "markdown",
   "metadata": {},
   "source": [
    "### Logistic Regression Model under GridSearchCV"
   ]
  },
  {
   "cell_type": "code",
   "execution_count": 133,
   "metadata": {},
   "outputs": [
    {
     "name": "stdout",
     "output_type": "stream",
     "text": [
      "done in 5.71372s\n",
      "Best estimator found by grid search:\n",
      "LogisticRegression(C=0.001, class_weight=None, dual=False, fit_intercept=True,\n",
      "          intercept_scaling=1, max_iter=100, multi_class='ovr', n_jobs=1,\n",
      "          penalty='l2', random_state=None, solver='liblinear', tol=0.0001,\n",
      "          verbose=0, warm_start=False)\n"
     ]
    }
   ],
   "source": [
    "param_grid = {'C': [0.001, 0.01, 0.1, 1, 10, 100, 1000] }\n",
    "clf = GridSearchCV(LogisticRegression(penalty='l2'), param_grid)\n",
    "clf = clf.fit(features_train, labels_train)\n",
    "\n",
    "#Printing the best estimator using LogisticRegression\n",
    "print \"done in %0.5fs\" % (time() - t0)\n",
    "print \"Best estimator found by grid search:\"\n",
    "print clf.best_estimator_"
   ]
  },
  {
   "cell_type": "markdown",
   "metadata": {},
   "source": [
    "Now, we will use the tester.py file to find out the results of the fine tuning of the algorithms and proceed there with the finish."
   ]
  }
 ],
 "metadata": {
  "kernelspec": {
   "display_name": "Python 2",
   "language": "python",
   "name": "python2"
  },
  "language_info": {
   "codemirror_mode": {
    "name": "ipython",
    "version": 2
   },
   "file_extension": ".py",
   "mimetype": "text/x-python",
   "name": "python",
   "nbconvert_exporter": "python",
   "pygments_lexer": "ipython2",
   "version": "2.7.14"
  }
 },
 "nbformat": 4,
 "nbformat_minor": 2
}
